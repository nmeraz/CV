{
 "cells": [
  {
   "cell_type": "markdown",
   "id": "882ae85b-b0e1-4420-b908-c5f62e59b2a5",
   "metadata": {},
   "source": [
    "# Noemi Meraz\n",
    "Passionate leader and communicator seeking to develop, innovate, and create."
   ]
  },
  {
   "cell_type": "markdown",
   "id": "514eabc2-71b2-45dc-ac09-d6ba8683530c",
   "metadata": {},
   "source": [
    "### Education \n",
    "**El Centro College, Dallas, Texas**\n",
    "Fall  2017 - Fall 2018\n",
    "Exhibited determination by constantly pushing forward and performing exceptionally in an associate of Science with a 3.3 GPA\n",
    "**Southern Methodist University, Dallas, Texas**\n",
    "September 2020  - Present\n",
    "Dedman College of Humanities and Sciences. Currently seeking a Bachelor of Science in Economics with Finance Applications and Public Policy.\n",
    "Summer Internship Course with GlobalEd\n",
    "June 2022 - July 2022\n",
    "A course that developed my cultural, linguistic and professoinal abilities during my time in Spain. This course worked to aid and teach during my immersive work experience abroad."
   ]
  },
  {
   "cell_type": "markdown",
   "id": "0f50928f-b0af-448d-81ad-95deb13bb575",
   "metadata": {},
   "source": [
    "### Activities\n",
    "**Southern Methodist University CHAS**, *(College of Hispanic American Students)*\n",
    "August 2021  - Present\n",
    "A cultural organization that provides academic support and promotes Hispanic culture and equal support by holding seminars, workshops, and group meetings. \n",
    "Southern Methodist University SMひRM, (SMU Underrepresented Minorities- economics) \n",
    "August 2022  - Present\n",
    "An organization that brings support to minorities in economics to provide support and networking opportunities as well as research and internships by holding events to promote interactions among students and faculty.\n",
    " "
   ]
  },
  {
   "cell_type": "markdown",
   "id": "1534e26a-f86c-4270-bd33-f4a15c16d682",
   "metadata": {},
   "source": [
    "### Work Experience\n",
    "**Pappadeaux Seafood Kitchen**, *(Manager)* \n",
    "January 2021  - Present\n",
    "Managed restaurant operations in a fine dining environment to ensure the highest level of guest satisfaction by establishing myself as a team player and being available for everyone.  \n",
    "\n",
    "**Alterna**, *(Financial Analyst Intern)*\n",
    "June 2022 - July 2022\n",
    "I worked as a financial analyst for Alterna (a BPO company) in order to create a new business plan for the growth trajectory of the business after the COVID pandemic. I was also tasked with taking real-life success stories like Zara and Movistar and modeling the new plan around them. This professional work experience was conducted entirely in Spanish."
   ]
  }
 ],
 "metadata": {
  "kernelspec": {
   "display_name": "Python 3 (ipykernel)",
   "language": "python",
   "name": "python3"
  },
  "language_info": {
   "codemirror_mode": {
    "name": "ipython",
    "version": 3
   },
   "file_extension": ".py",
   "mimetype": "text/x-python",
   "name": "python",
   "nbconvert_exporter": "python",
   "pygments_lexer": "ipython3",
   "version": "3.9.13"
  }
 },
 "nbformat": 4,
 "nbformat_minor": 5
}
